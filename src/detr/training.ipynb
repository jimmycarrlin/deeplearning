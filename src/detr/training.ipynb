{
 "cells": [
  {
   "cell_type": "code",
   "execution_count": null,
   "metadata": {
    "collapsed": true
   },
   "outputs": [],
   "source": [
    "!pip install torchmetrics ray"
   ]
  },
  {
   "cell_type": "code",
   "execution_count": null,
   "outputs": [],
   "source": [
    "import sys\n",
    "from google.colab import drive\n",
    "\n",
    "drive.mount(\"/content/drive\", force_remount=True)\n",
    "sys.path.append(\"/content/drive/MyDrive\")\n",
    "%cd '/content/drive/MyDrive'"
   ],
   "metadata": {
    "collapsed": false,
    "pycharm": {
     "name": "#%%\n"
    }
   }
  },
  {
   "cell_type": "code",
   "execution_count": null,
   "outputs": [],
   "source": [
    "import os\n",
    "from pathlib import Path\n",
    "from datetime import datetime\n",
    "\n",
    "import torch\n",
    "from torch.optim import AdamW\n",
    "from torch.utils.data import DataLoader\n",
    "\n",
    "from torchvision.datasets import CocoDetection\n",
    "from torchmetrics.detection.mean_ap import MeanAveragePrecision\n",
    "\n",
    "from src.torchmodel.torchmodel import TorchModel\n",
    "from src.detr.modules.detr import DETR\n",
    "from src.detr.modules.criterion.criterion import SetCriterion\n",
    "from src.detr.modules.metrics.map import MeanAP\n",
    "from src.callback import CompositeCallback, ObjDetReporter, Profiler, Saver\n",
    "from src.detr.util.transformations import get_coco_transforms\n",
    "from src.detr.util.data import coco_collate_fn, CocoDetectionRemote\n",
    "from src.detr.util.transformations import Compose, PolyToMask, ToTensor, MaxResize, Normalize"
   ],
   "metadata": {
    "collapsed": false,
    "pycharm": {
     "name": "#%%\n"
    }
   }
  },
  {
   "cell_type": "code",
   "execution_count": null,
   "outputs": [],
   "source": [
    "def main():\n",
    "    path2imgs = \"http://images.cocodataset.org/\"\n",
    "    path2anns = \"/content/drive/MyDrive/datasets/coco/annotations/\"\n",
    "\n",
    "    trn_tsfms = Compose([PolyToMask(), ToTensor(), MaxResize(1333), Normalize()])\n",
    "    val_tsfms = Compose([PolyToMask(), ToTensor(), MaxResize(1333), Normalize()])\n",
    "\n",
    "    trn_set = CocoDetectionRemote(path2imgs + \"train2017\", path2anns + \"instances_train2017.json\", transforms=trn_tsfms)\n",
    "    val_set = CocoDetectionRemote(path2imgs + \"val2017\", path2anns + \"instances_val2017.json\", transforms=val_tsfms)\n",
    "\n",
    "    trn_loader = DataLoader(trn_set, batch_size=1, shuffle=False, collate_fn=coco_collate_fn)\n",
    "    val_loader = DataLoader(val_set, batch_size=1, shuffle=False, collate_fn=coco_collate_fn)\n",
    "\n",
    "    model = DETR.default(num_classes=91)\n",
    "    criterion = SetCriterion(num_classes=91)\n",
    "    optimizer = AdamW(params=model.parameters_to_optimize())\n",
    "    metrics = MeanAP()\n",
    "\n",
    "    model_repr = model.extra_repr()\n",
    "    time = datetime.now().strftime(\"%b%d_%H-%M-%S\")\n",
    "    log_dir = Path(os.getcwd()) / \"runs\" / model_repr / time\n",
    "\n",
    "    callback = CompositeCallback([ObjDetReporter(), Profiler.default(log_dir), Saver(log_dir)])\n",
    "\n",
    "    torchmodel = TorchModel(model, optimizer, criterion, metrics, callback)\n",
    "    torchmodel.train(trn_loader, val_loader, epochs=100)"
   ],
   "metadata": {
    "collapsed": false,
    "pycharm": {
     "name": "#%%\n"
    }
   }
  },
  {
   "cell_type": "code",
   "execution_count": null,
   "outputs": [],
   "source": [
    "torch.cuda.is_available()"
   ],
   "metadata": {
    "collapsed": false,
    "pycharm": {
     "name": "#%%\n"
    }
   }
  },
  {
   "cell_type": "code",
   "execution_count": null,
   "outputs": [],
   "source": [
    "main()"
   ],
   "metadata": {
    "collapsed": false,
    "pycharm": {
     "name": "#%%\n"
    }
   }
  }
 ],
 "metadata": {
  "kernelspec": {
   "display_name": "Python 3",
   "language": "python",
   "name": "python3"
  },
  "language_info": {
   "codemirror_mode": {
    "name": "ipython",
    "version": 2
   },
   "file_extension": ".py",
   "mimetype": "text/x-python",
   "name": "python",
   "nbconvert_exporter": "python",
   "pygments_lexer": "ipython2",
   "version": "2.7.6"
  }
 },
 "nbformat": 4,
 "nbformat_minor": 0
}